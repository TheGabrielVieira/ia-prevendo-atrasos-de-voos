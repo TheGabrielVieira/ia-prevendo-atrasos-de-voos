{
 "cells": [
  {
   "cell_type": "markdown",
   "id": "7135fc1f",
   "metadata": {},
   "source": [
    "<a href=\"https://colab.research.google.com/github/BrunoRaphaell/-IA-Aumentada-Prevendo-atrasos-de-voos./blob/aula_04/curso_modelo_atraso_voo.ipynb\" target=\"_parent\"><img src=\"https://colab.research.google.com/assets/colab-badge.svg\" alt=\"Open In Colab\"/></a>"
   ]
  },
  {
   "cell_type": "markdown",
   "id": "d8cc8a75",
   "metadata": {},
   "source": [
    "## Explorando os dados"
   ]
  },
  {
   "cell_type": "markdown",
   "id": "90599bb8",
   "metadata": {},
   "source": [
    "### Entendendo o conjunto de dados"
   ]
  },
  {
   "cell_type": "markdown",
   "id": "56fb73da",
   "metadata": {},
   "source": [
    "### Visualizações gráficas dos dados"
   ]
  },
  {
   "cell_type": "markdown",
   "id": "fd61290b",
   "metadata": {},
   "source": [
    "### Analisando a distribuição dos dados"
   ]
  },
  {
   "cell_type": "markdown",
   "id": "bf9df148",
   "metadata": {},
   "source": [
    "## Feature engineering"
   ]
  },
  {
   "cell_type": "markdown",
   "id": "174f8a35",
   "metadata": {},
   "source": [
    "### Feature Encoding"
   ]
  },
  {
   "cell_type": "markdown",
   "id": "b65e0463",
   "metadata": {},
   "source": [
    "### Limpando os Dados"
   ]
  },
  {
   "cell_type": "markdown",
   "id": "f82f9711",
   "metadata": {},
   "source": [
    "## Seleção e validação do modelo"
   ]
  },
  {
   "cell_type": "markdown",
   "id": "d573da60",
   "metadata": {},
   "source": [
    "### Treinamento do DummyRegressor"
   ]
  },
  {
   "cell_type": "markdown",
   "id": "033c8be4",
   "metadata": {},
   "source": [
    "### Treinamento do RandomForestRegressor"
   ]
  },
  {
   "cell_type": "markdown",
   "id": "25b9ef21",
   "metadata": {},
   "source": [
    "### Validação cruzada"
   ]
  },
  {
   "cell_type": "markdown",
   "id": "60524e4e",
   "metadata": {},
   "source": [
    "## Otimização de hiperparâmetros"
   ]
  },
  {
   "cell_type": "markdown",
   "id": "f306ffdb",
   "metadata": {},
   "source": [
    "### Seleção de recursos"
   ]
  },
  {
   "cell_type": "markdown",
   "id": "6d8bbb8c",
   "metadata": {},
   "source": [
    "### Otimizando os hiperparâmetros com o GridSearchCV"
   ]
  },
  {
   "cell_type": "markdown",
   "id": "837a8478",
   "metadata": {},
   "source": [
    "### Salvando o modelo"
   ]
  }
 ],
 "metadata": {
  "language_info": {
   "name": "python"
  }
 },
 "nbformat": 4,
 "nbformat_minor": 5
}
